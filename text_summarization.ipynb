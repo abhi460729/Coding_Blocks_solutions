{
 "cells": [
  {
   "cell_type": "code",
   "execution_count": 50,
   "metadata": {},
   "outputs": [],
   "source": [
    "text =  \"\"\" This began as one paragraph, but needed two—one for the problem and one for the solution. Also, notice that the second paragraph is a process paragraph. It would be very easy to add an introduction and conclusion to these two paragraphs and have a complete essay! . People often install a kitty door, only to discover that they have a problem. The problem is their cat will not use the kitty door. There are several common reasons why cats won’t use kitty doors. First, they may not understand how a kitty door works. They may not understand that it is a little doorway just for them. Second, many kitty doors are dark, and cats cannot see to the other side. As such, they can’t be sure of what is on the other side of the door, so they won’t take the risk. One last reason cats won’t use kitty doors is because some cats don’t like the feeling of pushing through the door and having the door drag across their back. But don’t worry—there is a solution for this kitty-door problem.\n",
    "\n",
    "The first step in solving the problem is to prop the door open with tape. This means your cat will now be able to see through to the other side; your cat will likely begin using the kitty door immediately. Once your cat has gotten used to using the kitty door, remove the tape. Sometimes cats will continue to use the kitty door without any more prompting. If this does not happen, you will want to use food to bribe your cat. When it’s feeding time, sit on the opposite side of the door from your cat and either click the top of the can or crinkle the cat food bag. Open the door to show your cat that it is both you and the food waiting on the other side of the door. Repeat this a couple times, and then feed your cat. After a couple days of this, your kitty-door problem will be solved.\"\"\""
   ]
  },
  {
   "cell_type": "code",
   "execution_count": 3,
   "metadata": {},
   "outputs": [],
   "source": [
    "import spacy\n",
    "from spacy.lang.en.stop_words import STOP_WORDS\n",
    "from string import punctuation"
   ]
  },
  {
   "cell_type": "code",
   "execution_count": 7,
   "metadata": {},
   "outputs": [
    {
     "data": {
      "text/plain": [
       "['in',\n",
       " 'both',\n",
       " 'the',\n",
       " 'up',\n",
       " 'hereafter',\n",
       " '’ll',\n",
       " 'so',\n",
       " 'from',\n",
       " 'what',\n",
       " 'me',\n",
       " 'still',\n",
       " 'show',\n",
       " 'on',\n",
       " 'every',\n",
       " 'is',\n",
       " 'name',\n",
       " \"'re\",\n",
       " 'whoever',\n",
       " 'did',\n",
       " 'top',\n",
       " 'two',\n",
       " 'either',\n",
       " 'next',\n",
       " 'yet',\n",
       " 'nevertheless',\n",
       " 'therefore',\n",
       " 'used',\n",
       " '’m',\n",
       " 'less',\n",
       " 'nor',\n",
       " 'somehow',\n",
       " 'only',\n",
       " 'onto',\n",
       " 'another',\n",
       " 'meanwhile',\n",
       " 'doing',\n",
       " 'than',\n",
       " 'were',\n",
       " 'of',\n",
       " '‘ve',\n",
       " 'anyone',\n",
       " 'ten',\n",
       " 'his',\n",
       " 'more',\n",
       " 'third',\n",
       " 'rather',\n",
       " 'whence',\n",
       " 'which',\n",
       " 'thus',\n",
       " 'could',\n",
       " 'seems',\n",
       " 'herein',\n",
       " '‘d',\n",
       " 'none',\n",
       " 'due',\n",
       " 'full',\n",
       " 'as',\n",
       " 'yours',\n",
       " 'side',\n",
       " 'would',\n",
       " 'former',\n",
       " 'whereby',\n",
       " 'between',\n",
       " 'moreover',\n",
       " 'if',\n",
       " 'mostly',\n",
       " 'make',\n",
       " 'sometime',\n",
       " 'are',\n",
       " 'others',\n",
       " 'themselves',\n",
       " 'part',\n",
       " \"'s\",\n",
       " 'seemed',\n",
       " 'call',\n",
       " 'anywhere',\n",
       " 'noone',\n",
       " 'nowhere',\n",
       " 'them',\n",
       " 'all',\n",
       " 'afterwards',\n",
       " 'here',\n",
       " 'within',\n",
       " 'together',\n",
       " 'sometimes',\n",
       " 'without',\n",
       " 'never',\n",
       " 'across',\n",
       " 'our',\n",
       " 'ca',\n",
       " 'itself',\n",
       " 'six',\n",
       " 'these',\n",
       " 'formerly',\n",
       " 'much',\n",
       " 'i',\n",
       " 'anyway',\n",
       " 'enough',\n",
       " 'though',\n",
       " 'perhaps',\n",
       " 'does',\n",
       " 'even',\n",
       " 'using',\n",
       " 'everyone',\n",
       " 'during',\n",
       " 'he',\n",
       " 'already',\n",
       " 'n’t',\n",
       " 'any',\n",
       " 'put',\n",
       " 'quite',\n",
       " 'their',\n",
       " 'now',\n",
       " 'per',\n",
       " 'will',\n",
       " \"n't\",\n",
       " 'before',\n",
       " 'this',\n",
       " 'us',\n",
       " \"'ve\",\n",
       " 'do',\n",
       " 'thence',\n",
       " 'well',\n",
       " 'hundred',\n",
       " 'bottom',\n",
       " 'myself',\n",
       " 'get',\n",
       " 'hereby',\n",
       " 'that',\n",
       " 'how',\n",
       " 'forty',\n",
       " 'an',\n",
       " \"'ll\",\n",
       " 'give',\n",
       " 'behind',\n",
       " 'also',\n",
       " 'with',\n",
       " 'whither',\n",
       " 'why',\n",
       " 'everywhere',\n",
       " 'there',\n",
       " 'latter',\n",
       " 'hers',\n",
       " 'mine',\n",
       " '‘ll',\n",
       " 'latterly',\n",
       " 'upon',\n",
       " 'thereupon',\n",
       " 'cannot',\n",
       " 'several',\n",
       " 'while',\n",
       " 'who',\n",
       " '’d',\n",
       " 'anything',\n",
       " 'a',\n",
       " 'again',\n",
       " 'further',\n",
       " 'wherein',\n",
       " 'not',\n",
       " 'amongst',\n",
       " 'too',\n",
       " 'most',\n",
       " 'becoming',\n",
       " 'can',\n",
       " 'although',\n",
       " 'we',\n",
       " 'just',\n",
       " 'beyond',\n",
       " 'whenever',\n",
       " \"'d\",\n",
       " 'became',\n",
       " 'be',\n",
       " 'twenty',\n",
       " 'unless',\n",
       " 'whereupon',\n",
       " 'anyhow',\n",
       " 'almost',\n",
       " '‘s',\n",
       " 'else',\n",
       " 'keep',\n",
       " 'one',\n",
       " 're',\n",
       " 'no',\n",
       " 'always',\n",
       " 'say',\n",
       " 'three',\n",
       " 'by',\n",
       " 'around',\n",
       " 'otherwise',\n",
       " 'but',\n",
       " 'fifteen',\n",
       " 'to',\n",
       " 'they',\n",
       " 'under',\n",
       " 'five',\n",
       " 'twelve',\n",
       " 'various',\n",
       " 'fifty',\n",
       " 'same',\n",
       " 'least',\n",
       " 'her',\n",
       " 'against',\n",
       " 'then',\n",
       " 'see',\n",
       " 'below',\n",
       " 'my',\n",
       " 'above',\n",
       " '‘re',\n",
       " 'along',\n",
       " 'very',\n",
       " 'therein',\n",
       " 'she',\n",
       " \"'m\",\n",
       " 'because',\n",
       " 'it',\n",
       " 'something',\n",
       " 'ourselves',\n",
       " 'indeed',\n",
       " 'or',\n",
       " '‘m',\n",
       " 'toward',\n",
       " 'him',\n",
       " 'where',\n",
       " 'might',\n",
       " 'once',\n",
       " 'alone',\n",
       " 'yourself',\n",
       " 'over',\n",
       " 'becomes',\n",
       " 'towards',\n",
       " 'your',\n",
       " 'each',\n",
       " 'eight',\n",
       " '’re',\n",
       " 'hereupon',\n",
       " 'into',\n",
       " 'you',\n",
       " 'back',\n",
       " 'must',\n",
       " '’ve',\n",
       " 'serious',\n",
       " 'other',\n",
       " 'has',\n",
       " 'via',\n",
       " 'when',\n",
       " 'nobody',\n",
       " 'often',\n",
       " 'empty',\n",
       " 'until',\n",
       " 'elsewhere',\n",
       " 'whole',\n",
       " 'himself',\n",
       " 'sixty',\n",
       " 'for',\n",
       " 'really',\n",
       " 'yourselves',\n",
       " 'someone',\n",
       " 'such',\n",
       " 'hence',\n",
       " 'go',\n",
       " 'seem',\n",
       " '’s',\n",
       " 'eleven',\n",
       " 'first',\n",
       " 'its',\n",
       " 'whereafter',\n",
       " 'somewhere',\n",
       " 'off',\n",
       " 'about',\n",
       " 'regarding',\n",
       " 'nothing',\n",
       " 'beside',\n",
       " 'whose',\n",
       " 'should',\n",
       " 'after',\n",
       " 'however',\n",
       " 'whereas',\n",
       " 'last',\n",
       " 'thereafter',\n",
       " 'except',\n",
       " 'front',\n",
       " 'beforehand',\n",
       " 'everything',\n",
       " 'have',\n",
       " 'whatever',\n",
       " 'may',\n",
       " 'whom',\n",
       " 'besides',\n",
       " 'few',\n",
       " 'being',\n",
       " 'four',\n",
       " 'herself',\n",
       " 'namely',\n",
       " 'whether',\n",
       " 'out',\n",
       " 'move',\n",
       " 'ours',\n",
       " 'amount',\n",
       " 'nine',\n",
       " 'take',\n",
       " 'had',\n",
       " 'seeming',\n",
       " 'was',\n",
       " 'wherever',\n",
       " 'among',\n",
       " 'n‘t',\n",
       " 'thru',\n",
       " 'at',\n",
       " 'become',\n",
       " 'own',\n",
       " 'down',\n",
       " 'throughout',\n",
       " 'since',\n",
       " 'many',\n",
       " 'some',\n",
       " 'through',\n",
       " 'am',\n",
       " 'please',\n",
       " 'and',\n",
       " 'those',\n",
       " 'thereby',\n",
       " 'neither',\n",
       " 'been',\n",
       " 'done',\n",
       " 'made',\n",
       " 'ever']"
      ]
     },
     "execution_count": 7,
     "metadata": {},
     "output_type": "execute_result"
    }
   ],
   "source": [
    "stopwords = list(STOP_WORDS)\n",
    "stopwords"
   ]
  },
  {
   "cell_type": "code",
   "execution_count": 8,
   "metadata": {},
   "outputs": [],
   "source": [
    "nlp = spacy.load('en_core_web_sm')"
   ]
  },
  {
   "cell_type": "code",
   "execution_count": 51,
   "metadata": {},
   "outputs": [],
   "source": [
    "doc = nlp(text)"
   ]
  },
  {
   "cell_type": "code",
   "execution_count": 52,
   "metadata": {},
   "outputs": [
    {
     "name": "stdout",
     "output_type": "stream",
     "text": [
      "[' ', 'This', 'began', 'as', 'one', 'paragraph', ',', 'but', 'needed', 'two', '—', 'one', 'for', 'the', 'problem', 'and', 'one', 'for', 'the', 'solution', '.', 'Also', ',', 'notice', 'that', 'the', 'second', 'paragraph', 'is', 'a', 'process', 'paragraph', '.', 'It', 'would', 'be', 'very', 'easy', 'to', 'add', 'an', 'introduction', 'and', 'conclusion', 'to', 'these', 'two', 'paragraphs', 'and', 'have', 'a', 'complete', 'essay', '!', '.', 'People', 'often', 'install', 'a', 'kitty', 'door', ',', 'only', 'to', 'discover', 'that', 'they', 'have', 'a', 'problem', '.', 'The', 'problem', 'is', 'their', 'cat', 'will', 'not', 'use', 'the', 'kitty', 'door', '.', 'There', 'are', 'several', 'common', 'reasons', 'why', 'cats', 'wo', 'n’t', 'use', 'kitty', 'doors', '.', 'First', ',', 'they', 'may', 'not', 'understand', 'how', 'a', 'kitty', 'door', 'works', '.', 'They', 'may', 'not', 'understand', 'that', 'it', 'is', 'a', 'little', 'doorway', 'just', 'for', 'them', '.', 'Second', ',', 'many', 'kitty', 'doors', 'are', 'dark', ',', 'and', 'cats', 'can', 'not', 'see', 'to', 'the', 'other', 'side', '.', 'As', 'such', ',', 'they', 'ca', 'n’t', 'be', 'sure', 'of', 'what', 'is', 'on', 'the', 'other', 'side', 'of', 'the', 'door', ',', 'so', 'they', 'wo', 'n’t', 'take', 'the', 'risk', '.', 'One', 'last', 'reason', 'cats', 'wo', 'n’t', 'use', 'kitty', 'doors', 'is', 'because', 'some', 'cats', 'do', 'n’t', 'like', 'the', 'feeling', 'of', 'pushing', 'through', 'the', 'door', 'and', 'having', 'the', 'door', 'drag', 'across', 'their', 'back', '.', 'But', 'do', 'n’t', 'worry', '—', 'there', 'is', 'a', 'solution', 'for', 'this', 'kitty', '-', 'door', 'problem', '.', '\\n\\n', 'The', 'first', 'step', 'in', 'solving', 'the', 'problem', 'is', 'to', 'prop', 'the', 'door', 'open', 'with', 'tape', '.', 'This', 'means', 'your', 'cat', 'will', 'now', 'be', 'able', 'to', 'see', 'through', 'to', 'the', 'other', 'side', ';', 'your', 'cat', 'will', 'likely', 'begin', 'using', 'the', 'kitty', 'door', 'immediately', '.', 'Once', 'your', 'cat', 'has', 'gotten', 'used', 'to', 'using', 'the', 'kitty', 'door', ',', 'remove', 'the', 'tape', '.', 'Sometimes', 'cats', 'will', 'continue', 'to', 'use', 'the', 'kitty', 'door', 'without', 'any', 'more', 'prompting', '.', 'If', 'this', 'does', 'not', 'happen', ',', 'you', 'will', 'want', 'to', 'use', 'food', 'to', 'bribe', 'your', 'cat', '.', 'When', 'it', '’s', 'feeding', 'time', ',', 'sit', 'on', 'the', 'opposite', 'side', 'of', 'the', 'door', 'from', 'your', 'cat', 'and', 'either', 'click', 'the', 'top', 'of', 'the', 'can', 'or', 'crinkle', 'the', 'cat', 'food', 'bag', '.', 'Open', 'the', 'door', 'to', 'show', 'your', 'cat', 'that', 'it', 'is', 'both', 'you', 'and', 'the', 'food', 'waiting', 'on', 'the', 'other', 'side', 'of', 'the', 'door', '.', 'Repeat', 'this', 'a', 'couple', 'times', ',', 'and', 'then', 'feed', 'your', 'cat', '.', 'After', 'a', 'couple', 'days', 'of', 'this', ',', 'your', 'kitty', '-', 'door', 'problem', 'will', 'be', 'solved', '.']\n"
     ]
    }
   ],
   "source": [
    "tokens = [token.text for token in doc]\n",
    "print(tokens)"
   ]
  },
  {
   "cell_type": "code",
   "execution_count": 53,
   "metadata": {},
   "outputs": [
    {
     "data": {
      "text/plain": [
       "'!\"#$%&\\'()*+,-./:;<=>?@[\\\\]^_`{|}~\\n\\n\\n'"
      ]
     },
     "execution_count": 53,
     "metadata": {},
     "output_type": "execute_result"
    }
   ],
   "source": [
    "punctuation = punctuation + '\\n'\n",
    "punctuation"
   ]
  },
  {
   "cell_type": "code",
   "execution_count": 54,
   "metadata": {},
   "outputs": [],
   "source": [
    "word_frequencies = {}"
   ]
  },
  {
   "cell_type": "code",
   "execution_count": 55,
   "metadata": {},
   "outputs": [],
   "source": [
    "for word in doc:\n",
    "    if word.text.lower() not in stopwords:\n",
    "        if word.text.lower() not in punctuation:\n",
    "            if word.text not in word_frequencies.keys():\n",
    "                word_frequencies[word.text]=1\n",
    "            else:\n",
    "                word_frequencies[word.text] += 1\n",
    "        "
   ]
  },
  {
   "cell_type": "code",
   "execution_count": 56,
   "metadata": {},
   "outputs": [
    {
     "name": "stdout",
     "output_type": "stream",
     "text": [
      "{' ': 1, 'began': 1, 'paragraph': 3, 'needed': 1, '—': 2, 'problem': 6, 'solution': 2, 'notice': 1, 'second': 1, 'process': 1, 'easy': 1, 'add': 1, 'introduction': 1, 'conclusion': 1, 'paragraphs': 1, 'complete': 1, 'essay': 1, 'People': 1, 'install': 1, 'kitty': 11, 'door': 15, 'discover': 1, 'cat': 9, 'use': 5, 'common': 1, 'reasons': 1, 'cats': 5, 'wo': 3, 'doors': 3, 'understand': 2, 'works': 1, 'little': 1, 'doorway': 1, 'Second': 1, 'dark': 1, 'sure': 1, 'risk': 1, 'reason': 1, 'like': 1, 'feeling': 1, 'pushing': 1, 'having': 1, 'drag': 1, 'worry': 1, 'step': 1, 'solving': 1, 'prop': 1, 'open': 1, 'tape': 2, 'means': 1, 'able': 1, 'likely': 1, 'begin': 1, 'immediately': 1, 'gotten': 1, 'remove': 1, 'continue': 1, 'prompting': 1, 'happen': 1, 'want': 1, 'food': 3, 'bribe': 1, 'feeding': 1, 'time': 1, 'sit': 1, 'opposite': 1, 'click': 1, 'crinkle': 1, 'bag': 1, 'Open': 1, 'waiting': 1, 'Repeat': 1, 'couple': 2, 'times': 1, 'feed': 1, 'days': 1, 'solved': 1}\n"
     ]
    }
   ],
   "source": [
    "print(word_frequencies)"
   ]
  },
  {
   "cell_type": "code",
   "execution_count": 57,
   "metadata": {},
   "outputs": [],
   "source": [
    "max_frequency = max(word_frequencies.values())"
   ]
  },
  {
   "cell_type": "code",
   "execution_count": 58,
   "metadata": {},
   "outputs": [
    {
     "data": {
      "text/plain": [
       "15"
      ]
     },
     "execution_count": 58,
     "metadata": {},
     "output_type": "execute_result"
    }
   ],
   "source": [
    "max_frequency"
   ]
  },
  {
   "cell_type": "code",
   "execution_count": 59,
   "metadata": {},
   "outputs": [],
   "source": [
    "for word in word_frequencies.keys():\n",
    "    word_frequencies[word] =word_frequencies[word]/max_frequency\n",
    "    "
   ]
  },
  {
   "cell_type": "code",
   "execution_count": 60,
   "metadata": {},
   "outputs": [
    {
     "name": "stdout",
     "output_type": "stream",
     "text": [
      "{' ': 0.06666666666666667, 'began': 0.06666666666666667, 'paragraph': 0.2, 'needed': 0.06666666666666667, '—': 0.13333333333333333, 'problem': 0.4, 'solution': 0.13333333333333333, 'notice': 0.06666666666666667, 'second': 0.06666666666666667, 'process': 0.06666666666666667, 'easy': 0.06666666666666667, 'add': 0.06666666666666667, 'introduction': 0.06666666666666667, 'conclusion': 0.06666666666666667, 'paragraphs': 0.06666666666666667, 'complete': 0.06666666666666667, 'essay': 0.06666666666666667, 'People': 0.06666666666666667, 'install': 0.06666666666666667, 'kitty': 0.7333333333333333, 'door': 1.0, 'discover': 0.06666666666666667, 'cat': 0.6, 'use': 0.3333333333333333, 'common': 0.06666666666666667, 'reasons': 0.06666666666666667, 'cats': 0.3333333333333333, 'wo': 0.2, 'doors': 0.2, 'understand': 0.13333333333333333, 'works': 0.06666666666666667, 'little': 0.06666666666666667, 'doorway': 0.06666666666666667, 'Second': 0.06666666666666667, 'dark': 0.06666666666666667, 'sure': 0.06666666666666667, 'risk': 0.06666666666666667, 'reason': 0.06666666666666667, 'like': 0.06666666666666667, 'feeling': 0.06666666666666667, 'pushing': 0.06666666666666667, 'having': 0.06666666666666667, 'drag': 0.06666666666666667, 'worry': 0.06666666666666667, 'step': 0.06666666666666667, 'solving': 0.06666666666666667, 'prop': 0.06666666666666667, 'open': 0.06666666666666667, 'tape': 0.13333333333333333, 'means': 0.06666666666666667, 'able': 0.06666666666666667, 'likely': 0.06666666666666667, 'begin': 0.06666666666666667, 'immediately': 0.06666666666666667, 'gotten': 0.06666666666666667, 'remove': 0.06666666666666667, 'continue': 0.06666666666666667, 'prompting': 0.06666666666666667, 'happen': 0.06666666666666667, 'want': 0.06666666666666667, 'food': 0.2, 'bribe': 0.06666666666666667, 'feeding': 0.06666666666666667, 'time': 0.06666666666666667, 'sit': 0.06666666666666667, 'opposite': 0.06666666666666667, 'click': 0.06666666666666667, 'crinkle': 0.06666666666666667, 'bag': 0.06666666666666667, 'Open': 0.06666666666666667, 'waiting': 0.06666666666666667, 'Repeat': 0.06666666666666667, 'couple': 0.13333333333333333, 'times': 0.06666666666666667, 'feed': 0.06666666666666667, 'days': 0.06666666666666667, 'solved': 0.06666666666666667}\n"
     ]
    }
   ],
   "source": [
    "print(word_frequencies)"
   ]
  },
  {
   "cell_type": "code",
   "execution_count": 61,
   "metadata": {},
   "outputs": [
    {
     "name": "stdout",
     "output_type": "stream",
     "text": [
      "[ This began as one paragraph, but needed two—one for the problem and one for the solution., Also, notice that the second paragraph is a process paragraph., It would be very easy to add an introduction and conclusion to these two paragraphs and have a complete essay! ., People often install a kitty door, only to discover that they have a problem., The problem is their cat will not use the kitty door., There are several common reasons why cats won’t use kitty doors., First, they may not understand how a kitty door works., They may not understand that it is a little doorway just for them., Second, many kitty doors are dark, and cats cannot see to the other side., As such, they can’t be sure of what is on the other side of the door, so they won’t take the risk., One last reason cats won’t use kitty doors is because some cats don’t like the feeling of pushing through the door and having the door drag across their back., But don’t worry—there is a solution for this kitty-door problem.\n",
      "\n",
      ", The first step in solving the problem is to prop the door open with tape., This means your cat will now be able to see through to the other side; your cat will likely begin using the kitty door immediately., Once your cat has gotten used to using the kitty door, remove the tape., Sometimes cats will continue to use the kitty door without any more prompting., If this does not happen, you will want to use food to bribe your cat., When it’s feeding time, sit on the opposite side of the door from your cat and either click the top of the can or crinkle the cat food bag., Open the door to show your cat that it is both you and the food waiting on the other side of the door., Repeat this a couple times, and then feed your cat., After a couple days of this, your kitty-door problem will be solved.]\n"
     ]
    }
   ],
   "source": [
    "sentence_tokens = [sent for sent in doc.sents]\n",
    "print(sentence_tokens)"
   ]
  },
  {
   "cell_type": "code",
   "execution_count": 62,
   "metadata": {},
   "outputs": [],
   "source": [
    "sentence_scores = {}\n",
    "for sent in sentence_tokens:\n",
    "    for word in sent:\n",
    "        if word.text.lower() in word_frequencies.keys():\n",
    "            if sent not in sentence_scores.keys():\n",
    "                sentence_scores[sent]=word_frequencies[word.text.lower()]\n",
    "            else:\n",
    "                sentence_scores[sent] += word_frequencies[word.text.lower()]\n",
    "    "
   ]
  },
  {
   "cell_type": "code",
   "execution_count": 63,
   "metadata": {},
   "outputs": [
    {
     "data": {
      "text/plain": [
       "{ This began as one paragraph, but needed two—one for the problem and one for the solution.: 1.0666666666666667,\n",
       " Also, notice that the second paragraph is a process paragraph.: 0.6000000000000001,\n",
       " It would be very easy to add an introduction and conclusion to these two paragraphs and have a complete essay! .: 0.4666666666666666,\n",
       " People often install a kitty door, only to discover that they have a problem.: 2.2666666666666666,\n",
       " The problem is their cat will not use the kitty door.: 3.0666666666666664,\n",
       " There are several common reasons why cats won’t use kitty doors.: 1.9333333333333333,\n",
       " First, they may not understand how a kitty door works.: 1.9333333333333333,\n",
       " They may not understand that it is a little doorway just for them.: 0.26666666666666666,\n",
       " Second, many kitty doors are dark, and cats cannot see to the other side.: 1.4,\n",
       " As such, they can’t be sure of what is on the other side of the door, so they won’t take the risk.: 1.3333333333333333,\n",
       " One last reason cats won’t use kitty doors is because some cats don’t like the feeling of pushing through the door and having the door drag across their back.: 4.533333333333333,\n",
       " But don’t worry—there is a solution for this kitty-door problem.\n",
       " : 2.4666666666666663,\n",
       " The first step in solving the problem is to prop the door open with tape.: 1.8,\n",
       " This means your cat will now be able to see through to the other side; your cat will likely begin using the kitty door immediately.: 3.2666666666666666,\n",
       " Once your cat has gotten used to using the kitty door, remove the tape.: 2.6,\n",
       " Sometimes cats will continue to use the kitty door without any more prompting.: 2.5333333333333337,\n",
       " If this does not happen, you will want to use food to bribe your cat.: 1.3333333333333335,\n",
       " When it’s feeding time, sit on the opposite side of the door from your cat and either click the top of the can or crinkle the cat food bag.: 2.866666666666667,\n",
       " Open the door to show your cat that it is both you and the food waiting on the other side of the door.: 2.933333333333333,\n",
       " Repeat this a couple times, and then feed your cat.: 0.8666666666666667,\n",
       " After a couple days of this, your kitty-door problem will be solved.: 2.4000000000000004}"
      ]
     },
     "execution_count": 63,
     "metadata": {},
     "output_type": "execute_result"
    }
   ],
   "source": [
    "sentence_scores\n"
   ]
  },
  {
   "cell_type": "code",
   "execution_count": 64,
   "metadata": {},
   "outputs": [],
   "source": [
    "from heapq import nlargest"
   ]
  },
  {
   "cell_type": "code",
   "execution_count": 65,
   "metadata": {},
   "outputs": [],
   "source": [
    "select_length = int(len(sentence_tokens))"
   ]
  },
  {
   "cell_type": "code",
   "execution_count": 66,
   "metadata": {},
   "outputs": [
    {
     "data": {
      "text/plain": [
       "21"
      ]
     },
     "execution_count": 66,
     "metadata": {},
     "output_type": "execute_result"
    }
   ],
   "source": [
    "select_length"
   ]
  },
  {
   "cell_type": "code",
   "execution_count": 67,
   "metadata": {},
   "outputs": [],
   "source": [
    "summary = nlargest(select_length,sentence_scores , key=sentence_scores.get)"
   ]
  },
  {
   "cell_type": "code",
   "execution_count": 68,
   "metadata": {},
   "outputs": [
    {
     "data": {
      "text/plain": [
       "[One last reason cats won’t use kitty doors is because some cats don’t like the feeling of pushing through the door and having the door drag across their back.,\n",
       " This means your cat will now be able to see through to the other side; your cat will likely begin using the kitty door immediately.,\n",
       " The problem is their cat will not use the kitty door.,\n",
       " Open the door to show your cat that it is both you and the food waiting on the other side of the door.,\n",
       " When it’s feeding time, sit on the opposite side of the door from your cat and either click the top of the can or crinkle the cat food bag.,\n",
       " Once your cat has gotten used to using the kitty door, remove the tape.,\n",
       " Sometimes cats will continue to use the kitty door without any more prompting.,\n",
       " But don’t worry—there is a solution for this kitty-door problem.\n",
       " ,\n",
       " After a couple days of this, your kitty-door problem will be solved.,\n",
       " People often install a kitty door, only to discover that they have a problem.,\n",
       " There are several common reasons why cats won’t use kitty doors.,\n",
       " First, they may not understand how a kitty door works.,\n",
       " The first step in solving the problem is to prop the door open with tape.,\n",
       " Second, many kitty doors are dark, and cats cannot see to the other side.,\n",
       " If this does not happen, you will want to use food to bribe your cat.,\n",
       " As such, they can’t be sure of what is on the other side of the door, so they won’t take the risk.,\n",
       "  This began as one paragraph, but needed two—one for the problem and one for the solution.,\n",
       " Repeat this a couple times, and then feed your cat.,\n",
       " Also, notice that the second paragraph is a process paragraph.,\n",
       " It would be very easy to add an introduction and conclusion to these two paragraphs and have a complete essay! .,\n",
       " They may not understand that it is a little doorway just for them.]"
      ]
     },
     "execution_count": 68,
     "metadata": {},
     "output_type": "execute_result"
    }
   ],
   "source": [
    "summary\n"
   ]
  },
  {
   "cell_type": "code",
   "execution_count": 69,
   "metadata": {},
   "outputs": [],
   "source": [
    "final_summary = [word.text for word in summary]"
   ]
  },
  {
   "cell_type": "code",
   "execution_count": 70,
   "metadata": {},
   "outputs": [
    {
     "data": {
      "text/plain": [
       "['One last reason cats won’t use kitty doors is because some cats don’t like the feeling of pushing through the door and having the door drag across their back.',\n",
       " 'This means your cat will now be able to see through to the other side; your cat will likely begin using the kitty door immediately.',\n",
       " 'The problem is their cat will not use the kitty door.',\n",
       " 'Open the door to show your cat that it is both you and the food waiting on the other side of the door.',\n",
       " 'When it’s feeding time, sit on the opposite side of the door from your cat and either click the top of the can or crinkle the cat food bag.',\n",
       " 'Once your cat has gotten used to using the kitty door, remove the tape.',\n",
       " 'Sometimes cats will continue to use the kitty door without any more prompting.',\n",
       " 'But don’t worry—there is a solution for this kitty-door problem.\\n\\n',\n",
       " 'After a couple days of this, your kitty-door problem will be solved.',\n",
       " 'People often install a kitty door, only to discover that they have a problem.',\n",
       " 'There are several common reasons why cats won’t use kitty doors.',\n",
       " 'First, they may not understand how a kitty door works.',\n",
       " 'The first step in solving the problem is to prop the door open with tape.',\n",
       " 'Second, many kitty doors are dark, and cats cannot see to the other side.',\n",
       " 'If this does not happen, you will want to use food to bribe your cat.',\n",
       " 'As such, they can’t be sure of what is on the other side of the door, so they won’t take the risk.',\n",
       " ' This began as one paragraph, but needed two—one for the problem and one for the solution.',\n",
       " 'Repeat this a couple times, and then feed your cat.',\n",
       " 'Also, notice that the second paragraph is a process paragraph.',\n",
       " 'It would be very easy to add an introduction and conclusion to these two paragraphs and have a complete essay! .',\n",
       " 'They may not understand that it is a little doorway just for them.']"
      ]
     },
     "execution_count": 70,
     "metadata": {},
     "output_type": "execute_result"
    }
   ],
   "source": [
    "final_summary"
   ]
  },
  {
   "cell_type": "code",
   "execution_count": 71,
   "metadata": {},
   "outputs": [],
   "source": [
    "summary = ' '.join(final_summary)"
   ]
  },
  {
   "cell_type": "code",
   "execution_count": 72,
   "metadata": {},
   "outputs": [
    {
     "name": "stdout",
     "output_type": "stream",
     "text": [
      "One last reason cats won’t use kitty doors is because some cats don’t like the feeling of pushing through the door and having the door drag across their back. This means your cat will now be able to see through to the other side; your cat will likely begin using the kitty door immediately. The problem is their cat will not use the kitty door. Open the door to show your cat that it is both you and the food waiting on the other side of the door. When it’s feeding time, sit on the opposite side of the door from your cat and either click the top of the can or crinkle the cat food bag. Once your cat has gotten used to using the kitty door, remove the tape. Sometimes cats will continue to use the kitty door without any more prompting. But don’t worry—there is a solution for this kitty-door problem.\n",
      "\n",
      " After a couple days of this, your kitty-door problem will be solved. People often install a kitty door, only to discover that they have a problem. There are several common reasons why cats won’t use kitty doors. First, they may not understand how a kitty door works. The first step in solving the problem is to prop the door open with tape. Second, many kitty doors are dark, and cats cannot see to the other side. If this does not happen, you will want to use food to bribe your cat. As such, they can’t be sure of what is on the other side of the door, so they won’t take the risk.  This began as one paragraph, but needed two—one for the problem and one for the solution. Repeat this a couple times, and then feed your cat. Also, notice that the second paragraph is a process paragraph. It would be very easy to add an introduction and conclusion to these two paragraphs and have a complete essay! . They may not understand that it is a little doorway just for them.\n"
     ]
    }
   ],
   "source": [
    "print(summary)"
   ]
  },
  {
   "cell_type": "code",
   "execution_count": 73,
   "metadata": {},
   "outputs": [
    {
     "data": {
      "text/plain": [
       "1774"
      ]
     },
     "execution_count": 73,
     "metadata": {},
     "output_type": "execute_result"
    }
   ],
   "source": [
    "len(text)"
   ]
  },
  {
   "cell_type": "code",
   "execution_count": 74,
   "metadata": {},
   "outputs": [
    {
     "data": {
      "text/plain": [
       "1775"
      ]
     },
     "execution_count": 74,
     "metadata": {},
     "output_type": "execute_result"
    }
   ],
   "source": [
    "len(summary)"
   ]
  },
  {
   "cell_type": "code",
   "execution_count": 75,
   "metadata": {},
   "outputs": [
    {
     "data": {
      "text/plain": [
       "21"
      ]
     },
     "execution_count": 75,
     "metadata": {},
     "output_type": "execute_result"
    }
   ],
   "source": [
    "len(final_summary)"
   ]
  },
  {
   "cell_type": "code",
   "execution_count": 76,
   "metadata": {},
   "outputs": [
    {
     "name": "stdout",
     "output_type": "stream",
     "text": [
      "['One last reason cats won’t use kitty doors is because some cats don’t like the feeling of pushing through the door and having the door drag across their back.', 'This means your cat will now be able to see through to the other side; your cat will likely begin using the kitty door immediately.', 'The problem is their cat will not use the kitty door.', 'Open the door to show your cat that it is both you and the food waiting on the other side of the door.', 'When it’s feeding time, sit on the opposite side of the door from your cat and either click the top of the can or crinkle the cat food bag.', 'Once your cat has gotten used to using the kitty door, remove the tape.', 'Sometimes cats will continue to use the kitty door without any more prompting.', 'But don’t worry—there is a solution for this kitty-door problem.\\n\\n', 'After a couple days of this, your kitty-door problem will be solved.', 'People often install a kitty door, only to discover that they have a problem.', 'There are several common reasons why cats won’t use kitty doors.', 'First, they may not understand how a kitty door works.', 'The first step in solving the problem is to prop the door open with tape.', 'Second, many kitty doors are dark, and cats cannot see to the other side.', 'If this does not happen, you will want to use food to bribe your cat.', 'As such, they can’t be sure of what is on the other side of the door, so they won’t take the risk.', ' This began as one paragraph, but needed two—one for the problem and one for the solution.', 'Repeat this a couple times, and then feed your cat.', 'Also, notice that the second paragraph is a process paragraph.', 'It would be very easy to add an introduction and conclusion to these two paragraphs and have a complete essay! .', 'They may not understand that it is a little doorway just for them.']\n"
     ]
    }
   ],
   "source": [
    "print(final_summary)"
   ]
  },
  {
   "cell_type": "code",
   "execution_count": 77,
   "metadata": {},
   "outputs": [
    {
     "data": {
      "text/plain": [
       "['One last reason cats won’t use kitty doors is because some cats don’t like the feeling of pushing through the door and having the door drag across their back.',\n",
       " 'This means your cat will now be able to see through to the other side; your cat will likely begin using the kitty door immediately.',\n",
       " 'The problem is their cat will not use the kitty door.',\n",
       " 'Open the door to show your cat that it is both you and the food waiting on the other side of the door.',\n",
       " 'When it’s feeding time, sit on the opposite side of the door from your cat and either click the top of the can or crinkle the cat food bag.',\n",
       " 'Once your cat has gotten used to using the kitty door, remove the tape.',\n",
       " 'Sometimes cats will continue to use the kitty door without any more prompting.',\n",
       " 'But don’t worry—there is a solution for this kitty-door problem.\\n\\n',\n",
       " 'After a couple days of this, your kitty-door problem will be solved.',\n",
       " 'People often install a kitty door, only to discover that they have a problem.',\n",
       " 'There are several common reasons why cats won’t use kitty doors.',\n",
       " 'First, they may not understand how a kitty door works.',\n",
       " 'The first step in solving the problem is to prop the door open with tape.',\n",
       " 'Second, many kitty doors are dark, and cats cannot see to the other side.',\n",
       " 'If this does not happen, you will want to use food to bribe your cat.',\n",
       " 'As such, they can’t be sure of what is on the other side of the door, so they won’t take the risk.',\n",
       " ' This began as one paragraph, but needed two—one for the problem and one for the solution.',\n",
       " 'Repeat this a couple times, and then feed your cat.',\n",
       " 'Also, notice that the second paragraph is a process paragraph.',\n",
       " 'It would be very easy to add an introduction and conclusion to these two paragraphs and have a complete essay! .',\n",
       " 'They may not understand that it is a little doorway just for them.']"
      ]
     },
     "execution_count": 77,
     "metadata": {},
     "output_type": "execute_result"
    }
   ],
   "source": [
    "final_summary"
   ]
  },
  {
   "cell_type": "code",
   "execution_count": null,
   "metadata": {},
   "outputs": [],
   "source": []
  }
 ],
 "metadata": {
  "kernelspec": {
   "display_name": "Python 3",
   "language": "python",
   "name": "python3"
  },
  "language_info": {
   "codemirror_mode": {
    "name": "ipython",
    "version": 3
   },
   "file_extension": ".py",
   "mimetype": "text/x-python",
   "name": "python",
   "nbconvert_exporter": "python",
   "pygments_lexer": "ipython3",
   "version": "3.7.4"
  }
 },
 "nbformat": 4,
 "nbformat_minor": 2
}
