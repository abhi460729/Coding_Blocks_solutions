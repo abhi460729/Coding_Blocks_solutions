{
 "cells": [
  {
   "cell_type": "code",
   "execution_count": 1,
   "metadata": {},
   "outputs": [],
   "source": [
    "import pandas as pd\n",
    "import numpy as np\n",
    "import matplotlib.pyplot as plt"
   ]
  },
  {
   "cell_type": "code",
   "execution_count": 2,
   "metadata": {},
   "outputs": [],
   "source": [
    "LoadX = pd.read_csv('Diabetes_XTrain.csv')\n",
    "LoadY = pd.read_csv('Diabetes_YTrain.csv')"
   ]
  },
  {
   "cell_type": "code",
   "execution_count": 3,
   "metadata": {},
   "outputs": [
    {
     "name": "stdout",
     "output_type": "stream",
     "text": [
      "(576, 8) (576, 1)\n"
     ]
    }
   ],
   "source": [
    "valueX = LoadX.values\n",
    "valueY = LoadY.values\n",
    "print(valueX.shape,valueY.shape)"
   ]
  },
  {
   "cell_type": "code",
   "execution_count": 4,
   "metadata": {},
   "outputs": [
    {
     "name": "stdout",
     "output_type": "stream",
     "text": [
      "(576, 8) (576, 1)\n"
     ]
    }
   ],
   "source": [
    "print(valueX.shape,valueY.shape)"
   ]
  },
  {
   "cell_type": "code",
   "execution_count": 5,
   "metadata": {},
   "outputs": [
    {
     "data": {
      "image/png": "[encoded data removed]",
      "text/plain": [
       "<Figure size 432x288 with 1 Axes>"
      ]
     },
     "metadata": {
      "needs_background": "light"
     },
     "output_type": "display_data"
    }
   ],
   "source": [
    "plt.hist(valueY,3)\n",
    "plt.show()"
   ]
  },
  {
   "cell_type": "code",
   "execution_count": 6,
   "metadata": {},
   "outputs": [],
   "source": [
    "def distance(x1,x2):\n",
    "    return np.linalg.norm(x1-x2)"
   ]
  },
  {
   "cell_type": "code",
   "execution_count": 7,
   "metadata": {},
   "outputs": [],
   "source": [
    "def knn(x,y,querypoint, k = 1):\n",
    "    values = []\n",
    "    for i in range(x.shape[0]):\n",
    "        dist = distance(x[i],querypoint)\n",
    "        values.append((dist,y[i]))\n",
    "        \n",
    "    values = sorted(values)\n",
    "    values = values[:k]\n",
    "    values = np.array(values)\n",
    "    \n",
    "    new_values = np.unique(values[:,1],return_counts=True)\n",
    "    index = new_values[1].argmax()\n",
    "    prediction = new_values[0][index]\n",
    "    return prediction"
   ]
  },
  {
   "cell_type": "code",
   "execution_count": 8,
   "metadata": {},
   "outputs": [
    {
     "name": "stdout",
     "output_type": "stream",
     "text": [
      "finished : check file Output.csv\n"
     ]
    }
   ],
   "source": [
    "test = pd.read_csv('Diabetes_XTest.csv')\n",
    "testX = test.values\n",
    "\n",
    "output = []\n",
    "for i in range(testX.shape[0]):\n",
    "    output.append(knn(valueX,valueY,testX[i]))\n",
    "\n",
    "output = np.squeeze(output)\n",
    "df = pd.DataFrame({'Output': output})\n",
    "df.to_csv('output.csv',index= False) \n",
    "print('finished : check file Output.csv')"
   ]
  }
 ],
 "metadata": {
  "kernelspec": {
   "display_name": "Python 3",
   "language": "python",
   "name": "python3"
  },
  "language_info": {
   "codemirror_mode": {
    "name": "ipython",
    "version": 3
   },
   "file_extension": ".py",
   "mimetype": "text/x-python",
   "name": "python",
   "nbconvert_exporter": "python",
   "pygments_lexer": "ipython3",
   "version": "3.7.3"
  }
 },
 "nbformat": 4,
 "nbformat_minor": 2
}
