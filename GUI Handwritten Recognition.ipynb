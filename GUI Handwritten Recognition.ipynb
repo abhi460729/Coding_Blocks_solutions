{
 "cells": [
  {
   "cell_type": "code",
   "execution_count": 1,
   "metadata": {},
   "outputs": [
    {
     "name": "stderr",
     "output_type": "stream",
     "text": [
      "Using TensorFlow backend.\n"
     ]
    }
   ],
   "source": [
    "from keras.layers import *\n",
    "from keras.models import Sequential"
   ]
  },
  {
   "cell_type": "code",
   "execution_count": 3,
   "metadata": {},
   "outputs": [],
   "source": [
    "### Build a model"
   ]
  },
  {
   "cell_type": "code",
   "execution_count": 9,
   "metadata": {},
   "outputs": [],
   "source": [
    "model = Sequential()\n",
    "model.add(Conv2D(32,(3,3),activation='relu',input_shape=(28,28,1)))#convolutional layer of 32 images and filter size 3,3 which gives 26x26x32\n",
    "# Add a max pooling layer with stride 2,2 which is used for dimensionality reduction. \n",
    "model.add(MaxPool2D(2,2))\n",
    "model.add(Conv2D(64,(3,3),activation='relu',input_shape=(28,28,1)))#convolutional layer of 32 images and filter size 3,3 which gives 26x26x32\n",
    "# Add a max pooling layer with stride 2,2 which is used for dimensionality reduction. \n",
    "model.add(MaxPool2D(2,2))\n",
    "model.add(Conv2D(64,(3,3),activation='relu',input_shape=(28,28,1)))#convolutional layer of 32 images and filter size 3,3 which gives 26x26x32\n",
    "# Add a max pooling layer with stride 2,2 which is used for dimensionality reduction. \n",
    "model.add(MaxPool2D(2,2))\n",
    "model.add(Flatten())\n",
    "model.add(Dense(64,activation=\"relu\"))\n",
    "model.add(Dense(10,activation='softmax'))"
   ]
  },
  {
   "cell_type": "code",
   "execution_count": 10,
   "metadata": {},
   "outputs": [
    {
     "name": "stdout",
     "output_type": "stream",
     "text": [
      "Model: \"sequential_6\"\n",
      "_________________________________________________________________\n",
      "Layer (type)                 Output Shape              Param #   \n",
      "=================================================================\n",
      "conv2d_9 (Conv2D)            (None, 26, 26, 32)        320       \n",
      "_________________________________________________________________\n",
      "max_pooling2d_8 (MaxPooling2 (None, 13, 13, 32)        0         \n",
      "_________________________________________________________________\n",
      "conv2d_10 (Conv2D)           (None, 11, 11, 64)        18496     \n",
      "_________________________________________________________________\n",
      "max_pooling2d_9 (MaxPooling2 (None, 5, 5, 64)          0         \n",
      "_________________________________________________________________\n",
      "conv2d_11 (Conv2D)           (None, 3, 3, 64)          36928     \n",
      "_________________________________________________________________\n",
      "max_pooling2d_10 (MaxPooling (None, 1, 1, 64)          0         \n",
      "_________________________________________________________________\n",
      "flatten_1 (Flatten)          (None, 64)                0         \n",
      "_________________________________________________________________\n",
      "dense_1 (Dense)              (None, 64)                4160      \n",
      "_________________________________________________________________\n",
      "dense_2 (Dense)              (None, 10)                650       \n",
      "=================================================================\n",
      "Total params: 60,554\n",
      "Trainable params: 60,554\n",
      "Non-trainable params: 0\n",
      "_________________________________________________________________\n"
     ]
    }
   ],
   "source": [
    "model.summary()"
   ]
  },
  {
   "cell_type": "code",
   "execution_count": 11,
   "metadata": {},
   "outputs": [],
   "source": [
    "from keras.datasets import mnist\n",
    "from keras.utils import to_categorical"
   ]
  },
  {
   "cell_type": "code",
   "execution_count": 13,
   "metadata": {},
   "outputs": [
    {
     "name": "stdout",
     "output_type": "stream",
     "text": [
      "Downloading data from https://s3.amazonaws.com/img-datasets/mnist.npz\n",
      "11493376/11490434 [==============================] - 5s 0us/step\n"
     ]
    }
   ],
   "source": [
    "(XTrain,YTrain),(XTest,YTest) = mnist.load_data()"
   ]
  },
  {
   "cell_type": "code",
   "execution_count": 14,
   "metadata": {},
   "outputs": [],
   "source": [
    "def preprocess_data(X,Y):\n",
    "    X = X.reshape((-1,28,28,1))\n",
    "    X = X/255.0\n",
    "    Y= to_categorical(Y)\n",
    "    return X,Y"
   ]
  },
  {
   "cell_type": "code",
   "execution_count": 15,
   "metadata": {},
   "outputs": [
    {
     "name": "stdout",
     "output_type": "stream",
     "text": [
      "(60000, 28, 28, 1) (60000, 10)\n"
     ]
    }
   ],
   "source": [
    "XTrain,YTrain = preprocess_data(XTrain,YTrain)\n",
    "print(XTrain.shape,YTrain.shape)"
   ]
  },
  {
   "cell_type": "code",
   "execution_count": 16,
   "metadata": {},
   "outputs": [
    {
     "name": "stdout",
     "output_type": "stream",
     "text": [
      "(10000, 28, 28, 1) (10000, 10)\n"
     ]
    }
   ],
   "source": [
    "XTest,YTest = preprocess_data(XTest,YTest)\n",
    "print(XTest.shape,YTest.shape)"
   ]
  },
  {
   "cell_type": "code",
   "execution_count": 17,
   "metadata": {},
   "outputs": [],
   "source": [
    "model.compile(optimizer='adam' , loss='categorical_crossentropy' ,metrics=['accuracy'])"
   ]
  },
  {
   "cell_type": "code",
   "execution_count": 18,
   "metadata": {},
   "outputs": [
    {
     "name": "stdout",
     "output_type": "stream",
     "text": [
      "WARNING:tensorflow:From C:\\Users\\NAMAN AGRAWAL\\Anaconda3\\lib\\site-packages\\keras\\backend\\tensorflow_backend.py:422: The name tf.global_variables is deprecated. Please use tf.compat.v1.global_variables instead.\n",
      "\n",
      "Epoch 1/10\n",
      "60000/60000 [==============================] - 50s 827us/step - loss: 0.3500 - accuracy: 0.8966\n",
      "Epoch 2/10\n",
      "60000/60000 [==============================] - 41s 679us/step - loss: 0.0925 - accuracy: 0.9726\n",
      "Epoch 3/10\n",
      "60000/60000 [==============================] - 39s 657us/step - loss: 0.0675 - accuracy: 0.9789\n",
      "Epoch 4/10\n",
      "60000/60000 [==============================] - 40s 664us/step - loss: 0.0569 - accuracy: 0.9829\n",
      "Epoch 5/10\n",
      "60000/60000 [==============================] - 40s 670us/step - loss: 0.0475 - accuracy: 0.9851\n",
      "Epoch 6/10\n",
      "60000/60000 [==============================] - 40s 663us/step - loss: 0.0402 - accuracy: 0.9875s - loss: 0.040\n",
      "Epoch 7/10\n",
      "60000/60000 [==============================] - 40s 670us/step - loss: 0.0341 - accuracy: 0.9891\n",
      "Epoch 8/10\n",
      "60000/60000 [==============================] - 41s 680us/step - loss: 0.0291 - accuracy: 0.9910\n",
      "Epoch 9/10\n",
      "60000/60000 [==============================] - 40s 667us/step - loss: 0.0259 - accuracy: 0.9919\n",
      "Epoch 10/10\n",
      "60000/60000 [==============================] - 40s 673us/step - loss: 0.0224 - accuracy: 0.9928\n"
     ]
    },
    {
     "data": {
      "text/plain": [
       "<keras.callbacks.callbacks.History at 0x26d901334c8>"
      ]
     },
     "execution_count": 18,
     "metadata": {},
     "output_type": "execute_result"
    }
   ],
   "source": [
    "model.fit(XTrain,YTrain,epochs=10,batch_size=128)"
   ]
  },
  {
   "cell_type": "code",
   "execution_count": 19,
   "metadata": {},
   "outputs": [
    {
     "name": "stdout",
     "output_type": "stream",
     "text": [
      "Train on 54000 samples, validate on 6000 samples\n",
      "Epoch 1/20\n",
      "54000/54000 [==============================] - 42s 771us/step - loss: 0.0185 - accuracy: 0.9944 - val_loss: 0.0200 - val_accuracy: 0.9945\n",
      "Epoch 2/20\n",
      "54000/54000 [==============================] - 43s 789us/step - loss: 0.0165 - accuracy: 0.9948 - val_loss: 0.0149 - val_accuracy: 0.9953\n",
      "Epoch 3/20\n",
      "54000/54000 [==============================] - 38s 705us/step - loss: 0.0140 - accuracy: 0.9952 - val_loss: 0.0231 - val_accuracy: 0.9923\n",
      "Epoch 4/20\n",
      "54000/54000 [==============================] - 34s 636us/step - loss: 0.0132 - accuracy: 0.9956 - val_loss: 0.0266 - val_accuracy: 0.9925\n",
      "Epoch 5/20\n",
      "54000/54000 [==============================] - 34s 636us/step - loss: 0.0115 - accuracy: 0.9961 - val_loss: 0.0186 - val_accuracy: 0.9940\n",
      "Epoch 6/20\n",
      "54000/54000 [==============================] - 35s 639us/step - loss: 0.0098 - accuracy: 0.9965 - val_loss: 0.0156 - val_accuracy: 0.9965\n",
      "Epoch 7/20\n",
      "54000/54000 [==============================] - 35s 640us/step - loss: 0.0102 - accuracy: 0.9968 - val_loss: 0.0223 - val_accuracy: 0.9945\n",
      "Epoch 8/20\n",
      "54000/54000 [==============================] - 37s 679us/step - loss: 0.0092 - accuracy: 0.9966 - val_loss: 0.0301 - val_accuracy: 0.9922\n",
      "Epoch 9/20\n",
      "54000/54000 [==============================] - 42s 782us/step - loss: 0.0075 - accuracy: 0.9975 - val_loss: 0.0242 - val_accuracy: 0.9927\n",
      "Epoch 10/20\n",
      "54000/54000 [==============================] - 43s 802us/step - loss: 0.0047 - accuracy: 0.9983 - val_loss: 0.0238 - val_accuracy: 0.9935\n",
      "Epoch 11/20\n",
      "54000/54000 [==============================] - 43s 797us/step - loss: 0.0103 - accuracy: 0.9964 - val_loss: 0.0295 - val_accuracy: 0.9923\n",
      "Epoch 12/20\n",
      "54000/54000 [==============================] - 42s 784us/step - loss: 0.0058 - accuracy: 0.9979 - val_loss: 0.0265 - val_accuracy: 0.9927\n",
      "Epoch 13/20\n",
      "54000/54000 [==============================] - 43s 794us/step - loss: 0.0033 - accuracy: 0.9988 - val_loss: 0.0314 - val_accuracy: 0.9935\n",
      "Epoch 14/20\n",
      "54000/54000 [==============================] - 44s 807us/step - loss: 0.0094 - accuracy: 0.9969 - val_loss: 0.0253 - val_accuracy: 0.9933\n",
      "Epoch 15/20\n",
      "54000/54000 [==============================] - 42s 783us/step - loss: 0.0048 - accuracy: 0.9985 - val_loss: 0.0218 - val_accuracy: 0.9933\n",
      "Epoch 16/20\n",
      "54000/54000 [==============================] - 43s 795us/step - loss: 0.0039 - accuracy: 0.9989 - val_loss: 0.0365 - val_accuracy: 0.9898\n",
      "Epoch 17/20\n",
      "54000/54000 [==============================] - 41s 767us/step - loss: 0.0068 - accuracy: 0.9975 - val_loss: 0.0289 - val_accuracy: 0.9932\n",
      "Epoch 18/20\n",
      "54000/54000 [==============================] - 41s 768us/step - loss: 0.0029 - accuracy: 0.9990 - val_loss: 0.0283 - val_accuracy: 0.9927\n",
      "Epoch 19/20\n",
      "54000/54000 [==============================] - 39s 728us/step - loss: 0.0050 - accuracy: 0.9982 - val_loss: 0.0397 - val_accuracy: 0.9908\n",
      "Epoch 20/20\n",
      "54000/54000 [==============================] - 35s 642us/step - loss: 0.0049 - accuracy: 0.9984 - val_loss: 0.0363 - val_accuracy: 0.9927\n"
     ]
    }
   ],
   "source": [
    "hist = model.fit(XTrain,YTrain,epochs=20,validation_split=0.1,batch_size=128)"
   ]
  },
  {
   "cell_type": "raw",
   "metadata": {},
   "source": [
    "result = model.predict(XTest,YTest,epochs=20,validation_split=0.1,batch_size=128)"
   ]
  },
  {
   "cell_type": "code",
   "execution_count": 26,
   "metadata": {},
   "outputs": [
    {
     "name": "stdout",
     "output_type": "stream",
     "text": [
      "10000/10000 [==============================] - 2s 228us/step\n"
     ]
    }
   ],
   "source": [
    "result = model.evaluate(XTest,YTest)"
   ]
  },
  {
   "cell_type": "code",
   "execution_count": 27,
   "metadata": {},
   "outputs": [
    {
     "name": "stdout",
     "output_type": "stream",
     "text": [
      "Saving the model as mnist.h5\n"
     ]
    }
   ],
   "source": [
    "model.save('mnist.h5')\n",
    "print(\"Saving the model as mnist.h5\")"
   ]
  },
  {
   "cell_type": "code",
   "execution_count": 29,
   "metadata": {},
   "outputs": [],
   "source": [
    "from keras.models import load_model\n",
    "from tkinter import *\n",
    "import tkinter as tk\n",
    "import win32gui\n",
    "from PIL import ImageGrab, Image\n",
    "import numpy as np\n",
    "model = load_model('mnist.h5')\n",
    "def predict_digit(img):\n",
    "    #resize image to 28x28 pixels\n",
    "    img = img.resize((28,28))\n",
    "    #convert rgb to grayscale\n",
    "    img = img.convert('L')\n",
    "    img = np.array(img)\n",
    "    #reshaping to support our model input and normalizing\n",
    "    img = img.reshape(1,28,28,1)\n",
    "    img = img/255.0\n",
    "    #predicting the class\n",
    "    res = model.predict([img])[0]\n",
    "    return np.argmax(res), max(res)\n",
    "class App(tk.Tk):\n",
    "    def __init__(self):\n",
    "        tk.Tk.__init__(self)\n",
    "        self.x = self.y = 0\n",
    "        # Creating elements\n",
    "        self.canvas = tk.Canvas(self, width=300, height=300, bg = \"white\", cursor=\"cross\")\n",
    "        self.label = tk.Label(self, text=\"Thinking..\", font=(\"Helvetica\", 48))\n",
    "        self.classify_btn = tk.Button(self, text = \"Recognise\", command =         self.classify_handwriting) \n",
    "        self.button_clear = tk.Button(self, text = \"Clear\", command = self.clear_all)\n",
    "        # Grid structure\n",
    "        self.canvas.grid(row=0, column=0, pady=2, sticky=W, )\n",
    "        self.label.grid(row=0, column=1,pady=2, padx=2)\n",
    "        self.classify_btn.grid(row=1, column=1, pady=2, padx=2)\n",
    "        self.button_clear.grid(row=1, column=0, pady=2)\n",
    "        #self.canvas.bind(\"<Motion>\", self.start_pos)\n",
    "        self.canvas.bind(\"<B1-Motion>\", self.draw_lines)\n",
    "    def clear_all(self):\n",
    "        self.canvas.delete(\"all\")\n",
    "    def classify_handwriting(self):\n",
    "        HWND = self.canvas.winfo_id() # get the handle of the canvas\n",
    "        rect = win32gui.GetWindowRect(HWND) # get the coordinate of the canvas\n",
    "        im = ImageGrab.grab(rect)\n",
    "        digit, acc = predict_digit(im)\n",
    "        self.label.configure(text= str(digit)+', '+ str(int(acc*100))+'%')\n",
    "    def draw_lines(self, event):\n",
    "        self.x = event.x\n",
    "        self.y = event.y\n",
    "        r=8\n",
    "        self.canvas.create_oval(self.x-r, self.y-r, self.x + r, self.y + r, fill='black')\n",
    "app = App()\n",
    "mainloop()"
   ]
  },
  {
   "cell_type": "code",
   "execution_count": null,
   "metadata": {},
   "outputs": [],
   "source": []
  }
 ],
 "metadata": {
  "kernelspec": {
   "display_name": "Python 3",
   "language": "python",
   "name": "python3"
  },
  "language_info": {
   "codemirror_mode": {
    "name": "ipython",
    "version": 3
   },
   "file_extension": ".py",
   "mimetype": "text/x-python",
   "name": "python",
   "nbconvert_exporter": "python",
   "pygments_lexer": "ipython3",
   "version": "3.7.4"
  }
 },
 "nbformat": 4,
 "nbformat_minor": 2
}
